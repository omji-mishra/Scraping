{
 "cells": [
  {
   "cell_type": "code",
   "execution_count": 18,
   "metadata": {},
   "outputs": [],
   "source": [
    "from urllib.request import urlopen as uReq\n",
    "from bs4 import BeautifulSoup as soup\n",
    "myurl = 'https://www.flipkart.com/search?q=laptop&otracker=search&otracker1=search&marketplace=FLIPKART&as-show=on&as=off'"
   ]
  },
  {
   "cell_type": "code",
   "execution_count": 19,
   "metadata": {},
   "outputs": [],
   "source": [
    "uClient = uReq(myurl)\n",
    "page_html = uClient.read()\n",
    "uClient.close()\n",
    "page_soup = soup(page_html,\"html.parser\")"
   ]
  },
  {
   "cell_type": "code",
   "execution_count": 20,
   "metadata": {},
   "outputs": [],
   "source": [
    "containers = page_soup.find_all(\"div\",{\"class\":\"_3O0U0u\"})"
   ]
  },
  {
   "cell_type": "code",
   "execution_count": 21,
   "metadata": {},
   "outputs": [],
   "source": [
    "container = containers[0]"
   ]
  },
  {
   "cell_type": "code",
   "execution_count": 22,
   "metadata": {},
   "outputs": [],
   "source": [
    "temp = container.find_all(\"div\",{\"class\":\"_3wU53n\"})"
   ]
  },
  {
   "cell_type": "code",
   "execution_count": 23,
   "metadata": {},
   "outputs": [],
   "source": [
    "price = container.find_all(\"div\",{\"class\":\"_1vC4OE _2rQ-NK\"})"
   ]
  },
  {
   "cell_type": "code",
   "execution_count": 25,
   "metadata": {},
   "outputs": [
    {
     "data": {
      "text/plain": [
       "'₹53,990'"
      ]
     },
     "execution_count": 25,
     "metadata": {},
     "output_type": "execute_result"
    }
   ],
   "source": [
    "price[0].text"
   ]
  },
  {
   "cell_type": "code",
   "execution_count": 10,
   "metadata": {},
   "outputs": [
    {
     "data": {
      "text/plain": [
       "'Acer Nitro 5 Core i5 8th Gen - (8 GB/1 TB HDD/Windows 10 Home/4 GB Graphics) AN515-52 Gaming Laptop'"
      ]
     },
     "execution_count": 10,
     "metadata": {},
     "output_type": "execute_result"
    }
   ],
   "source": [
    "temp[0].text"
   ]
  },
  {
   "cell_type": "code",
   "execution_count": 27,
   "metadata": {},
   "outputs": [
    {
     "name": "stdout",
     "output_type": "stream",
     "text": [
      "Price: ₹53,990  Name: Acer Nitro 5 Core i5 8th Gen - (8 GB/1 TB HDD/Windows 10 Home/4 GB Graphics) AN515-52 Gaming Laptop\n",
      "Price: ₹18,490  Name: Acer Aspire 3 Pentium Gold - (4 GB/500 GB HDD/Windows 10 Home) A315-53 Laptop\n",
      "Price: ₹22,990  Name: HP 15q APU Dual Core A9 - (4 GB/1 TB HDD/Windows 10 Home) 15q-dy0007AU Laptop\n",
      "Price: ₹1,09,990  Name: Lenovo Yoga 730 Core i7 8th Gen - (8 GB/512 GB SSD/Windows 10 Home) 730-13IKB 2 in 1 Laptop\n",
      "Price: ₹18,990  Name: Asus Pentium Quad Core - (4 GB/1 TB HDD/Windows 10 Home) X540MA-GQ098T Laptop\n",
      "Price: ₹67,990  Name: Apple MacBook Air Core i5 5th Gen - (8 GB/128 GB SSD/Mac OS Sierra) MQD32HN/A A1466\n",
      "Price: ₹12,990  Name: iBall CompBook M500 Celeron Dual Core - (4 GB/32 GB EMMC Storage/Windows 10 Home) M500 Laptop\n",
      "Price: ₹29,990  Name: HP 14q Core i3 7th Gen - (4 GB/1 TB HDD/Windows 10 Home) 14q-CS0005TU Thin and Light Laptop\n",
      "Price: ₹26,490  Name: HP 14q Core i3 7th Gen - (4 GB/1 TB HDD/DOS) 14q-cs0009TU Thin and Light Laptop\n",
      "Price: ₹26,990  Name: Dell Inspiron 15 5000 Ryzen 3 Dual Core - (4 GB/1 TB HDD/Windows 10 Home) 5575 Laptop\n",
      "Price: ₹26,990  Name: Dell Inspiron 14 3000 Core i3 7th Gen - (4 GB/1 TB HDD/Linux) inspiron 3467 Laptop\n",
      "Price: ₹42,990  Name: Lenovo Ideapad 330 Core i5 8th Gen - (8 GB/1 TB HDD/DOS/2 GB Graphics) 330-15IKB Laptop\n",
      "Price: ₹1,34,990  Name: MSI Core i7 9th Gen - (16 GB/1 TB HDD/256 GB SSD/Windows 10 Home/6 GB Graphics) GL63 9SDK-802IN Gaming...\n",
      "Price: ₹35,990  Name: Lenovo Ideapad 330 Core i3 7th Gen - (4 GB + 16 GB Optane/1 TB HDD/Windows 10 Home/2 GB Graphics) 330-...\n",
      "Price: ₹66,990  Name: Asus ROG Strix Core i5 8th Gen - (8 GB/1 TB HDD/128 GB SSD/Windows 10 Home/4 GB Graphics) GL503GE-EN16...\n",
      "Price: ₹40,990  Name: Acer Aspire 5 Core i5 7th Gen - (8 GB/1 TB HDD/Windows 10 Home/2 GB Graphics) A515-51G -5673 Laptop\n",
      "Price: ₹17,990  Name: Acer Aspire 3 Pentium Quad Core - (4 GB/500 GB HDD/Windows 10 Home) A315-32 / A315-33 Laptop\n",
      "Price: ₹28,990  Name: Acer Aspire 3 Ryzen 5 Quad Core - (4 GB/1 TB HDD/Windows 10 Home) A315-41 / A315-41G / A315-41-R45R La...\n",
      "Price: ₹69,990  Name: Asus ROG Strix Core i5 8th Gen - (8 GB/1 TB HDD/256 GB SSD/Windows 10 Home/4 GB Graphics) GL503GE-EN26...\n",
      "Price: ₹94,543  Name: HP Pavilion Core i5 8th Gen - (8 GB/1 TB HDD/128 GB SSD/Windows 10 Home/4 GB Graphics) 15-cx0141TX Gam...\n",
      "Price: ₹78,990  Name: Asus ROG Strix Core i7 8th Gen - (8 GB/1 TB HDD/256 GB SSD/Windows 10 Home/4 GB Graphics) GL503GE-EN26...\n",
      "Price: ₹64,990  Name: Acer Predator Helios 300 Core i5 8th Gen - (8 GB/1 TB HDD/128 GB SSD/Windows 10 Home/4 GB Graphics) PH...\n",
      "Price: ₹24,990  Name: Lenovo Ideapad 320 Core i3 6th Gen - (4 GB/1 TB HDD/Windows 10 Home) 320-14ISK Laptop\n",
      "Price: ₹45,990  Name: Lenovo Ideapad 330E Core i5 8th Gen - (8 GB/1 TB HDD/DOS/4 GB Graphics) 330-15IKB Laptop\n"
     ]
    }
   ],
   "source": [
    "for container in containers:\n",
    "    temp = container.find_all(\"div\",{\"class\":\"_3wU53n\"})\n",
    "    price = container.find_all(\"div\",{\"class\":\"_1vC4OE _2rQ-NK\"})\n",
    "    print(\"Price: \" + price[0].text + \" \" + \" Name: \" + temp[0].text)"
   ]
  },
  {
   "cell_type": "code",
   "execution_count": null,
   "metadata": {},
   "outputs": [],
   "source": []
  }
 ],
 "metadata": {
  "kernelspec": {
   "display_name": "Python 3",
   "language": "python",
   "name": "python3"
  },
  "language_info": {
   "codemirror_mode": {
    "name": "ipython",
    "version": 3
   },
   "file_extension": ".py",
   "mimetype": "text/x-python",
   "name": "python",
   "nbconvert_exporter": "python",
   "pygments_lexer": "ipython3",
   "version": "3.7.3"
  }
 },
 "nbformat": 4,
 "nbformat_minor": 2
}
